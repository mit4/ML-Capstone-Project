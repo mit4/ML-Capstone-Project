{
 "cells": [
  {
   "cell_type": "markdown",
   "metadata": {
    "id": "QIH2X9nKmpSy"
   },
   "source": [
    "---\n",
    "<a name = Section1></a>\n",
    "# **1. Introduction**\n",
    "---\n",
    "\n",
    "**PROJECT DESCRIPTION:**\n",
    "============================\n",
    "\n",
    "See https://projects.insaid.co/capstone2/index.php\n"
   ]
  },
  {
   "cell_type": "markdown",
   "metadata": {
    "id": "Zo8ObryynLud"
   },
   "source": [
    "---\n",
    "<a name = Section2></a>\n",
    "# **2. Installing and importing libraries**\n",
    "---\n",
    "\n"
   ]
  },
  {
   "cell_type": "markdown",
   "metadata": {
    "id": "oMMH8IRAp183"
   },
   "source": [
    "<a name = Section21></a>\n",
    "### **2.1 Installing Libraries**\n",
    "\n",
    "1.   Restart Runtime (in Colab it is menu -> Runtime -> Restart Runtime)\n",
    "2.   Run the below steps\n"
   ]
  },
  {
   "cell_type": "code",
   "execution_count": 1,
   "metadata": {
    "id": "AhCNnohwCq0D"
   },
   "outputs": [],
   "source": [
    "#!pip install -q datascience                   # Package that is required by pandas profiling\n",
    "#!pip install -q pandas-profiling              # Library to generate basic statistics about data"
   ]
  },
  {
   "cell_type": "code",
   "execution_count": 2,
   "metadata": {
    "id": "DS4JJslKCtRT"
   },
   "outputs": [],
   "source": [
    "#!pip install -q --upgrade pandas-profiling"
   ]
  },
  {
   "cell_type": "code",
   "execution_count": 3,
   "metadata": {
    "id": "pqdlx_FGLyb0"
   },
   "outputs": [],
   "source": [
    "#!pip install mysql-connector-python ## DB Connection ##"
   ]
  },
  {
   "cell_type": "markdown",
   "metadata": {
    "id": "nwSKlaMBoNcm"
   },
   "source": [
    "3.   Restart Runtime again \n",
    "4.   Run step 2 again\n",
    "5.   Run the code below (to install the other libraries)"
   ]
  },
  {
   "cell_type": "code",
   "execution_count": null,
   "metadata": {
    "id": "mpoZl60d6r8A"
   },
   "outputs": [],
   "source": []
  },
  {
   "cell_type": "code",
   "execution_count": 4,
   "metadata": {
    "id": "0IfjSOTaeFT0"
   },
   "outputs": [],
   "source": [
    "#------------------------------------------------------------------------------------------------------------------------------\n",
    "import pandas as pd                                                 # Importing for panel data analysis\n",
    "from pandas_profiling import ProfileReport                          # Import Pandas Profiling (To generate Univariate Analysis)\n",
    "pd.set_option('display.max_columns', None)                          # Unfolding hidden features if the cardinality is high\n",
    "pd.set_option('display.max_rows', None)                             # Unfolding hidden data points if the cardinality is high\n",
    "pd.set_option('mode.chained_assignment', None)                      # Removing restriction over chained assignments operations\n",
    "#-------------------------------------------------------------------------------------------------------------------------------\n",
    "import numpy as np                                                  # Importing package numpys (For Numerical Python)\n",
    "from scipy.stats import randint as sp_randint                       # For initializing random integer values\n",
    "#-------------------------------------------------------------------------------------------------------------------------------\n",
    "import matplotlib.pyplot as plt                                     # Importing pyplot interface using matplotlib\n",
    "import seaborn as sns                                               # Importin seaborm library for interactive visualization\n",
    "%matplotlib inline\n",
    "#-------------------------------------------------------------------------------------------------------------------------------\n",
    "from sklearn.preprocessing import StandardScaler                    # To scaled data with mean 0 and variance 1\n",
    "from sklearn.model_selection import train_test_split                # To split the data in training and testing part\n",
    "from sklearn.model_selection import RandomizedSearchCV              # To find best hyperparamter setting for the algorithm\n",
    "from sklearn.ensemble import RandomForestClassifier                 # To implement random forest classifier\n",
    "from sklearn.tree import DecisionTreeClassifier                     # To implement decision tree classifier\n",
    "from sklearn.metrics import classification_report                   # To generate classification report\n",
    "from sklearn.metrics import plot_confusion_matrix                   # To plot confusion matrix\n",
    "import pydotplus                                                    # To generate pydot file\n",
    "from IPython.display import Image                                   # To generate image using pydot file\n",
    "#-------------------------------------------------------------------------------------------------------------------------------\n",
    "import warnings                                                     # Importing warning to disable runtime warnings\n",
    "warnings.filterwarnings(\"ignore\")                                   # Warnings will appear only once"
   ]
  },
  {
   "cell_type": "markdown",
   "metadata": {
    "id": "wqF7VoudosAa"
   },
   "source": [
    "---\n",
    "<a name = Section3></a>\n",
    "# **3. Loading Train and Test data**\n",
    "---\n"
   ]
  },
  {
   "cell_type": "markdown",
   "metadata": {
    "id": "yTSHLWyMptUw"
   },
   "source": [
    "\n",
    "<a name = Section31></a>\n",
    "### **3.1 Loading Training data**"
   ]
  },
  {
   "cell_type": "code",
   "execution_count": 18,
   "metadata": {
    "id": "0XUrjVLHjAsr"
   },
   "outputs": [],
   "source": [
    "#------ DB Connection ------\n",
    "import mysql.connector\n",
    "mydb = mysql.connector.connect(\n",
    " user='student', password='student',\n",
    " host='cpanel.insaid.co',\n",
    " database='Capstone2')\n",
    "\n",
    "mycursor = mydb.cursor()"
   ]
  },
  {
   "cell_type": "code",
   "execution_count": 7,
   "metadata": {
    "id": "XcA9AnrWzwFu"
   },
   "outputs": [],
   "source": [
    "# --- Function get table data as a data frame ---\n",
    "def getTableDataAsDataFrame(dbCursor, tableName):\n",
    "\n",
    "  ## Get the Columns  of the table\n",
    "  dbCursor.execute(\"show columns from \" + tableName)\n",
    "  cols_result = dbCursor.fetchall()\n",
    "  cols_df = pd.DataFrame(cols_result)\n",
    "  cols = cols_df.iloc[:, 0]\n",
    "\n",
    "  ## Then, get the data stored into a DataFrame\n",
    "  dbCursor.execute(\"select * from \" + tableName)\n",
    "  table_data_result = dbCursor.fetchall()\n",
    "  table_data_df = pd.DataFrame(table_data_result, columns = cols)\n",
    "  \n",
    "  ## return the Table data as a DataFrame\n",
    "  return table_data_df\n"
   ]
  },
  {
   "cell_type": "code",
   "execution_count": null,
   "metadata": {},
   "outputs": [],
   "source": []
  },
  {
   "cell_type": "code",
   "execution_count": 8,
   "metadata": {
    "colab": {
     "base_uri": "https://localhost:8080/",
     "height": 206
    },
    "id": "EatdtucX07PS",
    "outputId": "f9c8de81-0df1-485b-eed2-bee44ff422b4"
   },
   "outputs": [
    {
     "data": {
      "text/html": [
       "<div>\n",
       "<style scoped>\n",
       "    .dataframe tbody tr th:only-of-type {\n",
       "        vertical-align: middle;\n",
       "    }\n",
       "\n",
       "    .dataframe tbody tr th {\n",
       "        vertical-align: top;\n",
       "    }\n",
       "\n",
       "    .dataframe thead th {\n",
       "        text-align: right;\n",
       "    }\n",
       "</style>\n",
       "<table border=\"1\" class=\"dataframe\">\n",
       "  <thead>\n",
       "    <tr style=\"text-align: right;\">\n",
       "      <th></th>\n",
       "      <th>dept_id</th>\n",
       "      <th>dept_name</th>\n",
       "      <th>dept_head</th>\n",
       "    </tr>\n",
       "  </thead>\n",
       "  <tbody>\n",
       "    <tr>\n",
       "      <th>0</th>\n",
       "      <td>D00-IT</td>\n",
       "      <td>IT</td>\n",
       "      <td>Henry Adey</td>\n",
       "    </tr>\n",
       "    <tr>\n",
       "      <th>1</th>\n",
       "      <td>D00-SS</td>\n",
       "      <td>Sales</td>\n",
       "      <td>Edward J Bayley</td>\n",
       "    </tr>\n",
       "    <tr>\n",
       "      <th>2</th>\n",
       "      <td>D00-TP</td>\n",
       "      <td>Temp</td>\n",
       "      <td>Micheal Zachrey</td>\n",
       "    </tr>\n",
       "    <tr>\n",
       "      <th>3</th>\n",
       "      <td>D00-ENG</td>\n",
       "      <td>Engineering</td>\n",
       "      <td>Sushant Raghunathan K</td>\n",
       "    </tr>\n",
       "    <tr>\n",
       "      <th>4</th>\n",
       "      <td>D00-SP</td>\n",
       "      <td>Support</td>\n",
       "      <td>Amelia Westray</td>\n",
       "    </tr>\n",
       "  </tbody>\n",
       "</table>\n",
       "</div>"
      ],
      "text/plain": [
       "0  dept_id    dept_name              dept_head\n",
       "0   D00-IT           IT             Henry Adey\n",
       "1   D00-SS        Sales        Edward J Bayley\n",
       "2   D00-TP         Temp        Micheal Zachrey\n",
       "3  D00-ENG  Engineering  Sushant Raghunathan K\n",
       "4   D00-SP      Support         Amelia Westray"
      ]
     },
     "metadata": {},
     "output_type": "display_data"
    }
   ],
   "source": [
    "# === TABLES of the DATABASE ===\n",
    "\n",
    "# Department Table\n",
    "department_data_df = getTableDataAsDataFrame(mycursor, 'department_data')\n",
    "display(department_data_df.head());"
   ]
  },
  {
   "cell_type": "code",
   "execution_count": 9,
   "metadata": {
    "colab": {
     "base_uri": "https://localhost:8080/",
     "height": 206
    },
    "id": "hh4nwC7G1f1H",
    "outputId": "cc839580-b95a-4233-e1fb-ad71e1c06453"
   },
   "outputs": [
    {
     "data": {
      "text/html": [
       "<div>\n",
       "<style scoped>\n",
       "    .dataframe tbody tr th:only-of-type {\n",
       "        vertical-align: middle;\n",
       "    }\n",
       "\n",
       "    .dataframe tbody tr th {\n",
       "        vertical-align: top;\n",
       "    }\n",
       "\n",
       "    .dataframe thead th {\n",
       "        text-align: right;\n",
       "    }\n",
       "</style>\n",
       "<table border=\"1\" class=\"dataframe\">\n",
       "  <thead>\n",
       "    <tr style=\"text-align: right;\">\n",
       "      <th></th>\n",
       "      <th>employee_id</th>\n",
       "      <th>age</th>\n",
       "      <th>gender</th>\n",
       "      <th>marital_status</th>\n",
       "    </tr>\n",
       "  </thead>\n",
       "  <tbody>\n",
       "    <tr>\n",
       "      <th>0</th>\n",
       "      <td>113558</td>\n",
       "      <td>43</td>\n",
       "      <td>Male</td>\n",
       "      <td>Married</td>\n",
       "    </tr>\n",
       "    <tr>\n",
       "      <th>1</th>\n",
       "      <td>112256</td>\n",
       "      <td>24</td>\n",
       "      <td>Female</td>\n",
       "      <td>Unmarried</td>\n",
       "    </tr>\n",
       "    <tr>\n",
       "      <th>2</th>\n",
       "      <td>112586</td>\n",
       "      <td>22</td>\n",
       "      <td>Female</td>\n",
       "      <td>Unmarried</td>\n",
       "    </tr>\n",
       "    <tr>\n",
       "      <th>3</th>\n",
       "      <td>108071</td>\n",
       "      <td>36</td>\n",
       "      <td>Male</td>\n",
       "      <td>Married</td>\n",
       "    </tr>\n",
       "    <tr>\n",
       "      <th>4</th>\n",
       "      <td>116915</td>\n",
       "      <td>38</td>\n",
       "      <td>Male</td>\n",
       "      <td>Married</td>\n",
       "    </tr>\n",
       "  </tbody>\n",
       "</table>\n",
       "</div>"
      ],
      "text/plain": [
       "0  employee_id  age  gender marital_status\n",
       "0       113558   43    Male        Married\n",
       "1       112256   24  Female      Unmarried\n",
       "2       112586   22  Female      Unmarried\n",
       "3       108071   36    Male        Married\n",
       "4       116915   38    Male        Married"
      ]
     },
     "metadata": {},
     "output_type": "display_data"
    }
   ],
   "source": [
    "# Employee Details table\n",
    "employee_details_data_df = getTableDataAsDataFrame(mycursor, 'employee_details_data')\n",
    "display(employee_details_data_df.head());"
   ]
  },
  {
   "cell_type": "code",
   "execution_count": 10,
   "metadata": {
    "colab": {
     "base_uri": "https://localhost:8080/",
     "height": 363
    },
    "id": "3GBhCbgA1h4q",
    "outputId": "af1c1989-c879-49af-e9a8-d2554d230d1e"
   },
   "outputs": [
    {
     "data": {
      "text/html": [
       "<div>\n",
       "<style scoped>\n",
       "    .dataframe tbody tr th:only-of-type {\n",
       "        vertical-align: middle;\n",
       "    }\n",
       "\n",
       "    .dataframe tbody tr th {\n",
       "        vertical-align: top;\n",
       "    }\n",
       "\n",
       "    .dataframe thead th {\n",
       "        text-align: right;\n",
       "    }\n",
       "</style>\n",
       "<table border=\"1\" class=\"dataframe\">\n",
       "  <thead>\n",
       "    <tr style=\"text-align: right;\">\n",
       "      <th></th>\n",
       "      <th>avg_monthly_hrs</th>\n",
       "      <th>department</th>\n",
       "      <th>filed_complaint</th>\n",
       "      <th>last_evaluation</th>\n",
       "      <th>n_projects</th>\n",
       "      <th>recently_promoted</th>\n",
       "      <th>salary</th>\n",
       "      <th>satisfaction</th>\n",
       "      <th>status</th>\n",
       "      <th>tenure</th>\n",
       "      <th>employee_id</th>\n",
       "    </tr>\n",
       "  </thead>\n",
       "  <tbody>\n",
       "    <tr>\n",
       "      <th>0</th>\n",
       "      <td>246.00</td>\n",
       "      <td>None</td>\n",
       "      <td>None</td>\n",
       "      <td>0.866838</td>\n",
       "      <td>6</td>\n",
       "      <td>NaN</td>\n",
       "      <td>medium</td>\n",
       "      <td>0.134415</td>\n",
       "      <td>Left</td>\n",
       "      <td>4.00</td>\n",
       "      <td>124467</td>\n",
       "    </tr>\n",
       "    <tr>\n",
       "      <th>1</th>\n",
       "      <td>134.00</td>\n",
       "      <td>None</td>\n",
       "      <td>None</td>\n",
       "      <td>0.555718</td>\n",
       "      <td>2</td>\n",
       "      <td>NaN</td>\n",
       "      <td>low</td>\n",
       "      <td>0.511041</td>\n",
       "      <td>Left</td>\n",
       "      <td>3.00</td>\n",
       "      <td>112210</td>\n",
       "    </tr>\n",
       "    <tr>\n",
       "      <th>2</th>\n",
       "      <td>156.00</td>\n",
       "      <td>D00-SS</td>\n",
       "      <td>1.00</td>\n",
       "      <td>0.474082</td>\n",
       "      <td>2</td>\n",
       "      <td>NaN</td>\n",
       "      <td>medium</td>\n",
       "      <td>0.405101</td>\n",
       "      <td>Left</td>\n",
       "      <td>3.00</td>\n",
       "      <td>126150</td>\n",
       "    </tr>\n",
       "    <tr>\n",
       "      <th>3</th>\n",
       "      <td>256.00</td>\n",
       "      <td>D00-SP</td>\n",
       "      <td>None</td>\n",
       "      <td>0.961360</td>\n",
       "      <td>6</td>\n",
       "      <td>NaN</td>\n",
       "      <td>low</td>\n",
       "      <td>0.152974</td>\n",
       "      <td>Left</td>\n",
       "      <td>4.00</td>\n",
       "      <td>125346</td>\n",
       "    </tr>\n",
       "    <tr>\n",
       "      <th>4</th>\n",
       "      <td>146.00</td>\n",
       "      <td>D00-SS</td>\n",
       "      <td>None</td>\n",
       "      <td>0.507349</td>\n",
       "      <td>2</td>\n",
       "      <td>NaN</td>\n",
       "      <td>medium</td>\n",
       "      <td>0.434845</td>\n",
       "      <td>Left</td>\n",
       "      <td>3.00</td>\n",
       "      <td>113707</td>\n",
       "    </tr>\n",
       "    <tr>\n",
       "      <th>5</th>\n",
       "      <td>135.00</td>\n",
       "      <td>D00-MT</td>\n",
       "      <td>None</td>\n",
       "      <td>0.482184</td>\n",
       "      <td>2</td>\n",
       "      <td>NaN</td>\n",
       "      <td>low</td>\n",
       "      <td>0.381545</td>\n",
       "      <td>Left</td>\n",
       "      <td>3.00</td>\n",
       "      <td>121685</td>\n",
       "    </tr>\n",
       "    <tr>\n",
       "      <th>6</th>\n",
       "      <td>270.00</td>\n",
       "      <td>D00-PD</td>\n",
       "      <td>None</td>\n",
       "      <td>0.867087</td>\n",
       "      <td>6</td>\n",
       "      <td>NaN</td>\n",
       "      <td>low</td>\n",
       "      <td>0.172575</td>\n",
       "      <td>Left</td>\n",
       "      <td>4.00</td>\n",
       "      <td>119912</td>\n",
       "    </tr>\n",
       "    <tr>\n",
       "      <th>7</th>\n",
       "      <td>244.00</td>\n",
       "      <td>D00-IT</td>\n",
       "      <td>None</td>\n",
       "      <td>0.926197</td>\n",
       "      <td>6</td>\n",
       "      <td>NaN</td>\n",
       "      <td>medium</td>\n",
       "      <td>0.061868</td>\n",
       "      <td>Left</td>\n",
       "      <td>5.00</td>\n",
       "      <td>112868</td>\n",
       "    </tr>\n",
       "    <tr>\n",
       "      <th>8</th>\n",
       "      <td>289.00</td>\n",
       "      <td>D00-IT</td>\n",
       "      <td>None</td>\n",
       "      <td>0.929858</td>\n",
       "      <td>7</td>\n",
       "      <td>NaN</td>\n",
       "      <td>low</td>\n",
       "      <td>0.161744</td>\n",
       "      <td>Left</td>\n",
       "      <td>4.00</td>\n",
       "      <td>122314</td>\n",
       "    </tr>\n",
       "    <tr>\n",
       "      <th>9</th>\n",
       "      <td>281.00</td>\n",
       "      <td>D00-SS</td>\n",
       "      <td>None</td>\n",
       "      <td>0.907965</td>\n",
       "      <td>6</td>\n",
       "      <td>NaN</td>\n",
       "      <td>medium</td>\n",
       "      <td>0.105749</td>\n",
       "      <td>Left</td>\n",
       "      <td>4.00</td>\n",
       "      <td>122394</td>\n",
       "    </tr>\n",
       "  </tbody>\n",
       "</table>\n",
       "</div>"
      ],
      "text/plain": [
       "0 avg_monthly_hrs department filed_complaint  last_evaluation  n_projects  \\\n",
       "0          246.00       None            None         0.866838           6   \n",
       "1          134.00       None            None         0.555718           2   \n",
       "2          156.00     D00-SS            1.00         0.474082           2   \n",
       "3          256.00     D00-SP            None         0.961360           6   \n",
       "4          146.00     D00-SS            None         0.507349           2   \n",
       "5          135.00     D00-MT            None         0.482184           2   \n",
       "6          270.00     D00-PD            None         0.867087           6   \n",
       "7          244.00     D00-IT            None         0.926197           6   \n",
       "8          289.00     D00-IT            None         0.929858           7   \n",
       "9          281.00     D00-SS            None         0.907965           6   \n",
       "\n",
       "0  recently_promoted  salary  satisfaction status tenure  employee_id  \n",
       "0                NaN  medium      0.134415   Left   4.00       124467  \n",
       "1                NaN     low      0.511041   Left   3.00       112210  \n",
       "2                NaN  medium      0.405101   Left   3.00       126150  \n",
       "3                NaN     low      0.152974   Left   4.00       125346  \n",
       "4                NaN  medium      0.434845   Left   3.00       113707  \n",
       "5                NaN     low      0.381545   Left   3.00       121685  \n",
       "6                NaN     low      0.172575   Left   4.00       119912  \n",
       "7                NaN  medium      0.061868   Left   5.00       112868  \n",
       "8                NaN     low      0.161744   Left   4.00       122314  \n",
       "9                NaN  medium      0.105749   Left   4.00       122394  "
      ]
     },
     "metadata": {},
     "output_type": "display_data"
    }
   ],
   "source": [
    "# Employee data\n",
    "### MAIN TABLE, Has most of the Features required for the model ###\n",
    "employee_data_df = getTableDataAsDataFrame(mycursor, 'employee_data')\n",
    "display(employee_data_df.head(10));\n"
   ]
  },
  {
   "cell_type": "code",
   "execution_count": 12,
   "metadata": {},
   "outputs": [
    {
     "data": {
      "text/html": [
       "<div>\n",
       "<style scoped>\n",
       "    .dataframe tbody tr th:only-of-type {\n",
       "        vertical-align: middle;\n",
       "    }\n",
       "\n",
       "    .dataframe tbody tr th {\n",
       "        vertical-align: top;\n",
       "    }\n",
       "\n",
       "    .dataframe thead th {\n",
       "        text-align: right;\n",
       "    }\n",
       "</style>\n",
       "<table border=\"1\" class=\"dataframe\">\n",
       "  <thead>\n",
       "    <tr style=\"text-align: right;\">\n",
       "      <th></th>\n",
       "      <th>last_evaluation</th>\n",
       "      <th>n_projects</th>\n",
       "      <th>recently_promoted</th>\n",
       "      <th>satisfaction</th>\n",
       "      <th>employee_id</th>\n",
       "    </tr>\n",
       "  </thead>\n",
       "  <tbody>\n",
       "    <tr>\n",
       "      <th>count</th>\n",
       "      <td>12663.000000</td>\n",
       "      <td>14150.000000</td>\n",
       "      <td>297.0</td>\n",
       "      <td>14000.000000</td>\n",
       "      <td>14150.000000</td>\n",
       "    </tr>\n",
       "    <tr>\n",
       "      <th>mean</th>\n",
       "      <td>0.718399</td>\n",
       "      <td>3.778304</td>\n",
       "      <td>1.0</td>\n",
       "      <td>0.621212</td>\n",
       "      <td>112080.750247</td>\n",
       "    </tr>\n",
       "    <tr>\n",
       "      <th>std</th>\n",
       "      <td>0.173108</td>\n",
       "      <td>1.250162</td>\n",
       "      <td>0.0</td>\n",
       "      <td>0.250482</td>\n",
       "      <td>8748.202856</td>\n",
       "    </tr>\n",
       "    <tr>\n",
       "      <th>min</th>\n",
       "      <td>0.316175</td>\n",
       "      <td>1.000000</td>\n",
       "      <td>1.0</td>\n",
       "      <td>0.040058</td>\n",
       "      <td>0.000000</td>\n",
       "    </tr>\n",
       "    <tr>\n",
       "      <th>25%</th>\n",
       "      <td>0.563711</td>\n",
       "      <td>3.000000</td>\n",
       "      <td>1.0</td>\n",
       "      <td>0.450356</td>\n",
       "      <td>105772.500000</td>\n",
       "    </tr>\n",
       "    <tr>\n",
       "      <th>50%</th>\n",
       "      <td>0.724731</td>\n",
       "      <td>4.000000</td>\n",
       "      <td>1.0</td>\n",
       "      <td>0.652394</td>\n",
       "      <td>111291.500000</td>\n",
       "    </tr>\n",
       "    <tr>\n",
       "      <th>75%</th>\n",
       "      <td>0.871409</td>\n",
       "      <td>5.000000</td>\n",
       "      <td>1.0</td>\n",
       "      <td>0.824925</td>\n",
       "      <td>116650.750000</td>\n",
       "    </tr>\n",
       "    <tr>\n",
       "      <th>max</th>\n",
       "      <td>1.000000</td>\n",
       "      <td>7.000000</td>\n",
       "      <td>1.0</td>\n",
       "      <td>1.000000</td>\n",
       "      <td>148988.000000</td>\n",
       "    </tr>\n",
       "  </tbody>\n",
       "</table>\n",
       "</div>"
      ],
      "text/plain": [
       "0      last_evaluation    n_projects  recently_promoted  satisfaction  \\\n",
       "count     12663.000000  14150.000000              297.0  14000.000000   \n",
       "mean          0.718399      3.778304                1.0      0.621212   \n",
       "std           0.173108      1.250162                0.0      0.250482   \n",
       "min           0.316175      1.000000                1.0      0.040058   \n",
       "25%           0.563711      3.000000                1.0      0.450356   \n",
       "50%           0.724731      4.000000                1.0      0.652394   \n",
       "75%           0.871409      5.000000                1.0      0.824925   \n",
       "max           1.000000      7.000000                1.0      1.000000   \n",
       "\n",
       "0        employee_id  \n",
       "count   14150.000000  \n",
       "mean   112080.750247  \n",
       "std      8748.202856  \n",
       "min         0.000000  \n",
       "25%    105772.500000  \n",
       "50%    111291.500000  \n",
       "75%    116650.750000  \n",
       "max    148988.000000  "
      ]
     },
     "execution_count": 12,
     "metadata": {},
     "output_type": "execute_result"
    }
   ],
   "source": [
    "employee_data_df.describe()"
   ]
  },
  {
   "cell_type": "code",
   "execution_count": null,
   "metadata": {},
   "outputs": [],
   "source": [
    "employee_data_df.describe()"
   ]
  },
  {
   "cell_type": "code",
   "execution_count": 22,
   "metadata": {},
   "outputs": [
    {
     "data": {
      "text/plain": [
       "array([Decimal('246.00'), Decimal('134.00'), Decimal('156.00'),\n",
       "       Decimal('256.00'), Decimal('146.00'), Decimal('135.00'),\n",
       "       Decimal('270.00'), Decimal('244.00'), Decimal('289.00'),\n",
       "       Decimal('281.00'), Decimal('269.00'), Decimal('267.00'),\n",
       "       Decimal('257.00'), Decimal('155.00'), Decimal('128.00'),\n",
       "       Decimal('274.00'), Decimal('151.00'), Decimal('127.00'),\n",
       "       Decimal('132.00'), Decimal('309.00'), Decimal('130.00'),\n",
       "       Decimal('233.00'), Decimal('245.00'), Decimal('149.00'),\n",
       "       Decimal('232.00'), Decimal('284.00'), Decimal('249.00'),\n",
       "       Decimal('164.00'), Decimal('159.00'), Decimal('154.00'),\n",
       "       Decimal('239.00'), Decimal('260.00'), Decimal('125.00'),\n",
       "       Decimal('308.00'), Decimal('306.00'), Decimal('141.00'),\n",
       "       Decimal('143.00'), Decimal('261.00'), Decimal('301.00'),\n",
       "       Decimal('296.00'), Decimal('271.00'), Decimal('129.00'),\n",
       "       Decimal('290.00'), Decimal('225.00'), Decimal('253.00'),\n",
       "       Decimal('255.00'), Decimal('268.00'), Decimal('153.00'),\n",
       "       Decimal('294.00'), Decimal('293.00'), Decimal('235.00'),\n",
       "       Decimal('158.00'), Decimal('273.00'), Decimal('277.00'),\n",
       "       Decimal('198.00'), Decimal('160.00'), Decimal('131.00'),\n",
       "       Decimal('150.00'), Decimal('254.00'), Decimal('152.00'),\n",
       "       Decimal('236.00'), Decimal('145.00'), Decimal('279.00'),\n",
       "       Decimal('259.00'), Decimal('297.00'), Decimal('258.00'),\n",
       "       Decimal('140.00'), Decimal('223.00'), Decimal('147.00'),\n",
       "       Decimal('148.00'), Decimal('310.00'), Decimal('137.00'),\n",
       "       Decimal('303.00'), Decimal('202.00'), Decimal('136.00'),\n",
       "       Decimal('287.00'), Decimal('218.00'), Decimal('172.00'),\n",
       "       Decimal('305.00'), Decimal('291.00'), Decimal('243.00'),\n",
       "       Decimal('228.00'), Decimal('283.00'), Decimal('242.00'),\n",
       "       Decimal('192.00'), Decimal('298.00'), Decimal('285.00'),\n",
       "       Decimal('247.00'), Decimal('216.00'), Decimal('280.00'),\n",
       "       Decimal('265.00'), Decimal('263.00'), Decimal('276.00'),\n",
       "       Decimal('139.00'), Decimal('142.00'), Decimal('299.00'),\n",
       "       Decimal('278.00'), Decimal('282.00'), Decimal('241.00'),\n",
       "       Decimal('144.00'), Decimal('157.00'), Decimal('264.00'),\n",
       "       Decimal('138.00'), Decimal('224.00'), Decimal('251.00'),\n",
       "       Decimal('124.00'), Decimal('119.00'), Decimal('248.00'),\n",
       "       Decimal('304.00'), Decimal('262.00'), Decimal('266.00'),\n",
       "       Decimal('133.00'), Decimal('252.00'), Decimal('275.00'),\n",
       "       Decimal('219.00'), Decimal('307.00'), Decimal('226.00'),\n",
       "       Decimal('214.00'), Decimal('180.00'), Decimal('300.00'),\n",
       "       Decimal('240.00'), Decimal('217.00'), Decimal('227.00'),\n",
       "       Decimal('238.00'), Decimal('177.00'), Decimal('181.00'),\n",
       "       Decimal('165.00'), Decimal('288.00'), Decimal('286.00'),\n",
       "       Decimal('272.00'), Decimal('250.00'), Decimal('126.00'),\n",
       "       Decimal('292.00'), Decimal('65.00'), Decimal('222.00'),\n",
       "       Decimal('229.00'), Decimal('302.00'), Decimal('237.00'),\n",
       "       Decimal('161.00'), Decimal('295.00'), Decimal('221.00'),\n",
       "       Decimal('63.00'), Decimal('195.00'), Decimal('213.00'),\n",
       "       Decimal('234.00'), Decimal('205.00'), Decimal('212.00'),\n",
       "       Decimal('179.00'), Decimal('72.00'), Decimal('87.00'),\n",
       "       Decimal('163.00'), Decimal('169.00'), Decimal('231.00'),\n",
       "       Decimal('166.00'), Decimal('220.00'), Decimal('68.00'),\n",
       "       Decimal('196.00'), Decimal('162.00'), Decimal('182.00'),\n",
       "       Decimal('204.00'), Decimal('184.00'), Decimal('74.00'),\n",
       "       Decimal('67.00'), Decimal('206.00'), Decimal('183.00'),\n",
       "       Decimal('189.00'), Decimal('168.00'), Decimal('178.00'),\n",
       "       Decimal('211.00'), Decimal('176.00'), Decimal('194.00'),\n",
       "       Decimal('173.00'), Decimal('185.00'), Decimal('215.00'),\n",
       "       Decimal('186.00'), Decimal('207.00'), Decimal('191.00'),\n",
       "       Decimal('203.00'), Decimal('108.00'), Decimal('101.00'),\n",
       "       Decimal('120.00'), Decimal('174.00'), Decimal('197.00'),\n",
       "       Decimal('193.00'), Decimal('230.00'), Decimal('111.00'),\n",
       "       Decimal('201.00'), Decimal('115.00'), Decimal('209.00'),\n",
       "       Decimal('170.00'), Decimal('69.00'), Decimal('187.00'),\n",
       "       Decimal('109.00'), Decimal('175.00'), Decimal('99.00'),\n",
       "       Decimal('190.00'), Decimal('112.00'), Decimal('210.00'),\n",
       "       Decimal('200.00'), Decimal('82.00'), Decimal('199.00'),\n",
       "       Decimal('188.00'), Decimal('171.00'), Decimal('49.00'),\n",
       "       Decimal('100.00'), Decimal('98.00'), Decimal('167.00'),\n",
       "       Decimal('76.00'), Decimal('113.00'), Decimal('104.00'),\n",
       "       Decimal('121.00'), Decimal('105.00'), Decimal('117.00'),\n",
       "       Decimal('118.00'), Decimal('208.00'), Decimal('97.00'),\n",
       "       Decimal('102.00'), Decimal('110.00'), Decimal('84.00'),\n",
       "       Decimal('106.00'), Decimal('123.00'), Decimal('90.00'),\n",
       "       Decimal('81.00'), Decimal('70.00'), Decimal('122.00'),\n",
       "       Decimal('103.00'), Decimal('114.00'), Decimal('60.00'),\n",
       "       Decimal('107.00'), Decimal('73.00'), Decimal('116.00'),\n",
       "       Decimal('96.00'), Decimal('83.00'), Decimal('54.00'),\n",
       "       Decimal('56.00'), Decimal('71.00'), Decimal('75.00'),\n",
       "       Decimal('52.00'), Decimal('89.00'), Decimal('66.00'),\n",
       "       Decimal('85.00'), Decimal('78.00'), Decimal('95.00'),\n",
       "       Decimal('92.00'), Decimal('80.00'), Decimal('91.00'),\n",
       "       Decimal('93.00'), Decimal('55.00'), Decimal('88.00')], dtype=object)"
      ]
     },
     "execution_count": 22,
     "metadata": {},
     "output_type": "execute_result"
    }
   ],
   "source": [
    "employee_data_df['avg_monthly_hrs'].unique()"
   ]
  },
  {
   "cell_type": "code",
   "execution_count": 13,
   "metadata": {},
   "outputs": [
    {
     "name": "stdout",
     "output_type": "stream",
     "text": [
      "<class 'pandas.core.frame.DataFrame'>\n",
      "RangeIndex: 14150 entries, 0 to 14149\n",
      "Data columns (total 11 columns):\n",
      " #   Column             Non-Null Count  Dtype  \n",
      "---  ------             --------------  -----  \n",
      " 0   avg_monthly_hrs    14150 non-null  object \n",
      " 1   department         13443 non-null  object \n",
      " 2   filed_complaint    2046 non-null   object \n",
      " 3   last_evaluation    12663 non-null  float64\n",
      " 4   n_projects         14150 non-null  int64  \n",
      " 5   recently_promoted  297 non-null    float64\n",
      " 6   salary             14150 non-null  object \n",
      " 7   satisfaction       14000 non-null  float64\n",
      " 8   status             14150 non-null  object \n",
      " 9   tenure             14000 non-null  object \n",
      " 10  employee_id        14150 non-null  int64  \n",
      "dtypes: float64(3), int64(2), object(6)\n",
      "memory usage: 1.2+ MB\n"
     ]
    }
   ],
   "source": [
    "employee_data_df.info()"
   ]
  },
  {
   "cell_type": "code",
   "execution_count": 21,
   "metadata": {},
   "outputs": [
    {
     "data": {
      "text/html": [
       "<div>\n",
       "<style scoped>\n",
       "    .dataframe tbody tr th:only-of-type {\n",
       "        vertical-align: middle;\n",
       "    }\n",
       "\n",
       "    .dataframe tbody tr th {\n",
       "        vertical-align: top;\n",
       "    }\n",
       "\n",
       "    .dataframe thead th {\n",
       "        text-align: right;\n",
       "    }\n",
       "</style>\n",
       "<table border=\"1\" class=\"dataframe\">\n",
       "  <thead>\n",
       "    <tr style=\"text-align: right;\">\n",
       "      <th></th>\n",
       "      <th>0</th>\n",
       "      <th>1</th>\n",
       "      <th>2</th>\n",
       "      <th>3</th>\n",
       "      <th>4</th>\n",
       "      <th>5</th>\n",
       "    </tr>\n",
       "  </thead>\n",
       "  <tbody>\n",
       "    <tr>\n",
       "      <th>0</th>\n",
       "      <td>avg_monthly_hrs</td>\n",
       "      <td>b'decimal(11,2)'</td>\n",
       "      <td>YES</td>\n",
       "      <td>[]</td>\n",
       "      <td>None</td>\n",
       "      <td></td>\n",
       "    </tr>\n",
       "    <tr>\n",
       "      <th>1</th>\n",
       "      <td>department</td>\n",
       "      <td>b'varchar(20)'</td>\n",
       "      <td>YES</td>\n",
       "      <td>[]</td>\n",
       "      <td>None</td>\n",
       "      <td></td>\n",
       "    </tr>\n",
       "    <tr>\n",
       "      <th>2</th>\n",
       "      <td>filed_complaint</td>\n",
       "      <td>b'decimal(11,2)'</td>\n",
       "      <td>YES</td>\n",
       "      <td>[]</td>\n",
       "      <td>None</td>\n",
       "      <td></td>\n",
       "    </tr>\n",
       "    <tr>\n",
       "      <th>3</th>\n",
       "      <td>last_evaluation</td>\n",
       "      <td>b'float'</td>\n",
       "      <td>YES</td>\n",
       "      <td>[]</td>\n",
       "      <td>None</td>\n",
       "      <td></td>\n",
       "    </tr>\n",
       "    <tr>\n",
       "      <th>4</th>\n",
       "      <td>n_projects</td>\n",
       "      <td>b'int'</td>\n",
       "      <td>YES</td>\n",
       "      <td>[]</td>\n",
       "      <td>None</td>\n",
       "      <td></td>\n",
       "    </tr>\n",
       "    <tr>\n",
       "      <th>5</th>\n",
       "      <td>recently_promoted</td>\n",
       "      <td>b'int'</td>\n",
       "      <td>YES</td>\n",
       "      <td>[]</td>\n",
       "      <td>None</td>\n",
       "      <td></td>\n",
       "    </tr>\n",
       "    <tr>\n",
       "      <th>6</th>\n",
       "      <td>salary</td>\n",
       "      <td>b'varchar(20)'</td>\n",
       "      <td>YES</td>\n",
       "      <td>[]</td>\n",
       "      <td>None</td>\n",
       "      <td></td>\n",
       "    </tr>\n",
       "    <tr>\n",
       "      <th>7</th>\n",
       "      <td>satisfaction</td>\n",
       "      <td>b'float'</td>\n",
       "      <td>YES</td>\n",
       "      <td>[]</td>\n",
       "      <td>None</td>\n",
       "      <td></td>\n",
       "    </tr>\n",
       "    <tr>\n",
       "      <th>8</th>\n",
       "      <td>status</td>\n",
       "      <td>b'varchar(20)'</td>\n",
       "      <td>YES</td>\n",
       "      <td>[]</td>\n",
       "      <td>None</td>\n",
       "      <td></td>\n",
       "    </tr>\n",
       "    <tr>\n",
       "      <th>9</th>\n",
       "      <td>tenure</td>\n",
       "      <td>b'decimal(11,2)'</td>\n",
       "      <td>YES</td>\n",
       "      <td>[]</td>\n",
       "      <td>None</td>\n",
       "      <td></td>\n",
       "    </tr>\n",
       "    <tr>\n",
       "      <th>10</th>\n",
       "      <td>employee_id</td>\n",
       "      <td>b'int'</td>\n",
       "      <td>YES</td>\n",
       "      <td>[]</td>\n",
       "      <td>None</td>\n",
       "      <td></td>\n",
       "    </tr>\n",
       "  </tbody>\n",
       "</table>\n",
       "</div>"
      ],
      "text/plain": [
       "                    0                 1    2   3     4 5\n",
       "0     avg_monthly_hrs  b'decimal(11,2)'  YES  []  None  \n",
       "1          department    b'varchar(20)'  YES  []  None  \n",
       "2     filed_complaint  b'decimal(11,2)'  YES  []  None  \n",
       "3     last_evaluation          b'float'  YES  []  None  \n",
       "4          n_projects            b'int'  YES  []  None  \n",
       "5   recently_promoted            b'int'  YES  []  None  \n",
       "6              salary    b'varchar(20)'  YES  []  None  \n",
       "7        satisfaction          b'float'  YES  []  None  \n",
       "8              status    b'varchar(20)'  YES  []  None  \n",
       "9              tenure  b'decimal(11,2)'  YES  []  None  \n",
       "10        employee_id            b'int'  YES  []  None  "
      ]
     },
     "execution_count": 21,
     "metadata": {},
     "output_type": "execute_result"
    }
   ],
   "source": [
    "\n",
    "## Get the Columns  of the table\n",
    "mycursor.execute(\"show columns from employee_data\")\n",
    "\n",
    "cols_result = mycursor.fetchall()\n",
    "cols_df = pd.DataFrame(cols_result)\n",
    "cols_df.head(20)\n",
    "#cols_df.iloc[:, 0]\n",
    "\n"
   ]
  },
  {
   "cell_type": "markdown",
   "metadata": {
    "id": "svC3acyco_2T"
   },
   "source": [
    "<a name = Section32></a>\n",
    "### **3.2 Loading Test data**"
   ]
  },
  {
   "cell_type": "markdown",
   "metadata": {
    "id": "VSAh7pO3412F"
   },
   "source": [
    "---\n",
    "<a name = Section4></a>\n",
    "# **4. Pre-Profiling Report**\n",
    "---"
   ]
  },
  {
   "cell_type": "code",
   "execution_count": 64,
   "metadata": {
    "id": "7XbVFU7i49OA"
   },
   "outputs": [],
   "source": [
    "#!pip install pandas-profiling==2.7.1\n",
    "#profile = ProfileReport(df = employee_train)\n",
    "#profile.to_file(output_file = 'Pre Profiling Report.html')\n",
    "#print('Accomplished!')"
   ]
  },
  {
   "cell_type": "code",
   "execution_count": 65,
   "metadata": {
    "id": "l2Sq2HvV49Ze"
   },
   "outputs": [],
   "source": [
    "#from google.colab import files                   # Use only if you are using Google Colab, otherwise remove it\n",
    "#files.download('Pre Profiling Report.html')      # Use only if you are using Google Colab, otherwise remove it"
   ]
  },
  {
   "cell_type": "markdown",
   "metadata": {
    "id": "iJEobyN4JaTL"
   },
   "source": [
    "---\n",
    "<a name = Section5></a>\n",
    "# **5. Exploratory Data Analysis**\n",
    "---"
   ]
  },
  {
   "cell_type": "markdown",
   "metadata": {
    "id": "DUO_vSikKMma"
   },
   "source": [
    "<a name = Section51></a>\n",
    "### **5.1 Pairwise Plots**"
   ]
  },
  {
   "cell_type": "markdown",
   "metadata": {
    "id": "qgmseS_ZKXeU"
   },
   "source": [
    "<a name = Section52></a>\n",
    "### **5.2 Heatmaps**"
   ]
  },
  {
   "cell_type": "code",
   "execution_count": 66,
   "metadata": {
    "id": "MH7Ar2i4XYjV"
   },
   "outputs": [],
   "source": [
    "#### Detailed HEAT MAP of Correlations ####"
   ]
  },
  {
   "cell_type": "markdown",
   "metadata": {
    "id": "_AuDxDXFCMAb"
   },
   "source": [
    "---\n",
    "<a name = Section6></a>\n",
    "# **6. Feature Selection**\n",
    "---"
   ]
  },
  {
   "cell_type": "markdown",
   "metadata": {
    "id": "3J2ii8Y_4_nC"
   },
   "source": [
    "---\n",
    "<a name = Section7></a>\n",
    "# **7. Filling Missing / Null values if any**\n",
    "---"
   ]
  },
  {
   "cell_type": "markdown",
   "metadata": {
    "id": "IidufM1EyCHd"
   },
   "source": [
    "\n",
    "<a name = Section71></a>\n",
    "### **7.1 Data Description (Mean, median, std. dev. etc)**"
   ]
  },
  {
   "cell_type": "markdown",
   "metadata": {
    "id": "ReidMqQEInK8"
   },
   "source": [
    "\n",
    "<a name = Section72></a>\n",
    "### **7.2 Fill missing / null values with Mean/Median/Mode**"
   ]
  },
  {
   "cell_type": "markdown",
   "metadata": {
    "id": "BVuWaNSbgc7Z"
   },
   "source": [
    "---\n",
    "<a name = Section8></a>\n",
    "# **8. Feature Engineering**\n",
    "---"
   ]
  },
  {
   "cell_type": "markdown",
   "metadata": {
    "id": "bWV0rWigLXEt"
   },
   "source": [
    "---\n",
    "<a name = Section9></a>\n",
    "# **9. Data Preparation (before model creation)**\n",
    "---"
   ]
  },
  {
   "cell_type": "markdown",
   "metadata": {
    "id": "v4CYXYh1LBUb"
   },
   "source": [
    "<a name = Section91></a>\n",
    "### **9.1 Scaling**"
   ]
  },
  {
   "cell_type": "markdown",
   "metadata": {
    "id": "hk_TXO6ULG3y"
   },
   "source": [
    "<a name = Section92></a>\n",
    "### **9.2 X and y creation**"
   ]
  },
  {
   "cell_type": "markdown",
   "metadata": {
    "id": "ve7ymVg-RtB5"
   },
   "source": [
    "<a name = Section93></a>\n",
    "### **9.3 Train-Test Split**"
   ]
  },
  {
   "cell_type": "markdown",
   "metadata": {
    "id": "zzuY4eVkSQ2m"
   },
   "source": [
    "<a name = Section94></a>\n",
    "### **9.4 Scaling (Fit-Transform for Train, Transform for Test)**"
   ]
  },
  {
   "cell_type": "markdown",
   "metadata": {
    "id": "tecjPT94pBwO"
   },
   "source": [
    "---\n",
    "<a name = Section10></a>\n",
    "# **10. Model creation and prediction**\n",
    "---"
   ]
  },
  {
   "cell_type": "markdown",
   "metadata": {
    "id": "5Pow56xBpeIe"
   },
   "source": [
    "<a name = Section91></a>\n",
    "### **10.1 Random Forest classification model**"
   ]
  },
  {
   "cell_type": "markdown",
   "metadata": {
    "id": "_L_gM4MQqn81"
   },
   "source": [
    "<a name = Section102></a>\n",
    "### **10.2 Prediction**"
   ]
  },
  {
   "cell_type": "markdown",
   "metadata": {
    "id": "SobxQWshywDH"
   },
   "source": [
    "---\n",
    "<a name = Section11></a>\n",
    "# **11. Model Evaluation**\n",
    "---"
   ]
  }
 ],
 "metadata": {
  "colab": {
   "collapsed_sections": [
    "qgmseS_ZKXeU"
   ],
   "name": "EmployeeAttritionPredictor.ipynb",
   "provenance": []
  },
  "kernelspec": {
   "display_name": "Python 3",
   "language": "python",
   "name": "python3"
  },
  "language_info": {
   "codemirror_mode": {
    "name": "ipython",
    "version": 3
   },
   "file_extension": ".py",
   "mimetype": "text/x-python",
   "name": "python",
   "nbconvert_exporter": "python",
   "pygments_lexer": "ipython3",
   "version": "3.8.3"
  }
 },
 "nbformat": 4,
 "nbformat_minor": 1
}
